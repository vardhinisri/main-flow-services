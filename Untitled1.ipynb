{
  "nbformat": 4,
  "nbformat_minor": 0,
  "metadata": {
    "colab": {
      "provenance": [],
      "authorship_tag": "ABX9TyOtesDWbjJO808hbJkg1ZZz",
      "include_colab_link": true
    },
    "kernelspec": {
      "name": "python3",
      "display_name": "Python 3"
    },
    "language_info": {
      "name": "python"
    }
  },
  "cells": [
    {
      "cell_type": "markdown",
      "metadata": {
        "id": "view-in-github",
        "colab_type": "text"
      },
      "source": [
        "<a href=\"https://colab.research.google.com/github/vardhinisri/main-flow-services/blob/main/Untitled1.ipynb\" target=\"_parent\"><img src=\"https://colab.research.google.com/assets/colab-badge.svg\" alt=\"Open In Colab\"/></a>"
      ]
    },
    {
      "cell_type": "code",
      "execution_count": null,
      "metadata": {
        "colab": {
          "base_uri": "https://localhost:8080/"
        },
        "id": "S8OlFxz5vs_z",
        "outputId": "b5668338-e37d-4768-ab06-d0ba62f9dc2d"
      },
      "outputs": [
        {
          "output_type": "stream",
          "name": "stdout",
          "text": [
            "['creation', 'animals', 39, 90, 'listoperations']\n"
          ]
        }
      ],
      "source": [
        "#creating list\n",
        "my_list =[\"creation\",\"animals\",39,90,\"listoperations\"]\n",
        "print(my_list)\n"
      ]
    },
    {
      "cell_type": "code",
      "source": [
        "#adding elements to the list\n",
        "my_list.append(8) #added at the end of the list\n",
        "print(my_list)"
      ],
      "metadata": {
        "colab": {
          "base_uri": "https://localhost:8080/"
        },
        "id": "rl6TYB7t3ei1",
        "outputId": "06cad903-c6d7-442b-cc76-0da5d267d024"
      },
      "execution_count": null,
      "outputs": [
        {
          "output_type": "stream",
          "name": "stdout",
          "text": [
            "['creation', 'animals', 39, 90, 'listoperations', 8]\n"
          ]
        }
      ]
    },
    {
      "cell_type": "code",
      "source": [
        "#insertig 2 at index 1\n",
        "print(my_list)\n",
        "my_list.insert(1,2)\n",
        "print(my_list)"
      ],
      "metadata": {
        "colab": {
          "base_uri": "https://localhost:8080/"
        },
        "id": "G2nxlt9G3oH9",
        "outputId": "880597e0-157d-4ba4-d8ba-c4be220de42d"
      },
      "execution_count": null,
      "outputs": [
        {
          "output_type": "stream",
          "name": "stdout",
          "text": [
            "['creation', 'animals', 39, 90, 'listoperations', 8]\n",
            "['creation', 2, 'animals', 39, 90, 'listoperations', 8]\n"
          ]
        }
      ]
    },
    {
      "cell_type": "code",
      "source": [
        "#modifing list\n",
        "my_list[4]=1000\n",
        "print(my_list)"
      ],
      "metadata": {
        "colab": {
          "base_uri": "https://localhost:8080/"
        },
        "id": "vokWYxeb33TH",
        "outputId": "8e9535ca-98ea-4f1e-8283-890079bd138c"
      },
      "execution_count": null,
      "outputs": [
        {
          "output_type": "stream",
          "name": "stdout",
          "text": [
            "['creation', 2, 'animals', 39, 1000, 'listoperations', 8]\n"
          ]
        }
      ]
    },
    {
      "cell_type": "code",
      "source": [
        "#removing elements\n",
        "my_list.remove(8) #removes the element that we given\n",
        "print(my_list)"
      ],
      "metadata": {
        "colab": {
          "base_uri": "https://localhost:8080/"
        },
        "id": "JabpSsgu4fOv",
        "outputId": "55abf52b-fe75-4a65-f220-e5051d757341"
      },
      "execution_count": null,
      "outputs": [
        {
          "output_type": "stream",
          "name": "stdout",
          "text": [
            "['creation', 2, 'animals', 39, 1000, 'listoperations']\n"
          ]
        }
      ]
    },
    {
      "cell_type": "code",
      "source": [
        "del my_list[1]  #delete the elements at index 1\n",
        "print(my_list)"
      ],
      "metadata": {
        "colab": {
          "base_uri": "https://localhost:8080/"
        },
        "id": "eRwATlxB5Ceo",
        "outputId": "dce1050c-3abb-49ab-c332-43060468daea"
      },
      "execution_count": null,
      "outputs": [
        {
          "output_type": "stream",
          "name": "stdout",
          "text": [
            "['creation', 'animals', 39, 1000, 'listoperations']\n"
          ]
        }
      ]
    },
    {
      "cell_type": "code",
      "source": [
        "# we can use pop for deleting elements at index and get their values\n",
        "pop_element = my_list.pop(2)\n",
        "print(\"popped element\",pop_element)\n",
        "print(\"after popping\",my_list)"
      ],
      "metadata": {
        "colab": {
          "base_uri": "https://localhost:8080/"
        },
        "id": "pLQ9Cl-r5ya1",
        "outputId": "27974d6b-18cc-4e43-be62-1cc4ba9a43d0"
      },
      "execution_count": null,
      "outputs": [
        {
          "output_type": "stream",
          "name": "stdout",
          "text": [
            "popped element 39\n",
            "after popping ['creation', 'animals', 1000, 'listoperations']\n"
          ]
        }
      ]
    },
    {
      "cell_type": "code",
      "source": [
        "#creating dictionary\n",
        "my_dict= {\"engineer\": 3,\"doctor\": 4,\"teacher\" : 5,\"police\": 9}\n",
        "print(my_dict)"
      ],
      "metadata": {
        "colab": {
          "base_uri": "https://localhost:8080/"
        },
        "id": "wPAfG5S194qR",
        "outputId": "15496088-ef83-4ba7-b412-0b157d8eff09"
      },
      "execution_count": null,
      "outputs": [
        {
          "output_type": "stream",
          "name": "stdout",
          "text": [
            "{'engineer': 3, 'doctor': 4, 'teacher': 5, 'police': 9}\n"
          ]
        }
      ]
    },
    {
      "cell_type": "code",
      "source": [
        "#adding elements\n",
        "my_dict[\"recruiter\"] = 2\n",
        "print(my_dict)"
      ],
      "metadata": {
        "colab": {
          "base_uri": "https://localhost:8080/"
        },
        "id": "Knb_7WSR95C4",
        "outputId": "4cfafd6a-4f16-41b1-caa2-2070a5d11d71"
      },
      "execution_count": null,
      "outputs": [
        {
          "output_type": "stream",
          "name": "stdout",
          "text": [
            "{'engineer': 3, 'doctor': 4, 'teacher': 5, 'police': 9, 'recruiter': 2}\n"
          ]
        }
      ]
    },
    {
      "cell_type": "code",
      "source": [
        "#modifing elements\n",
        "my_dict[\"engineer\"] = 10\n",
        "print(my_dict)"
      ],
      "metadata": {
        "colab": {
          "base_uri": "https://localhost:8080/"
        },
        "id": "Iz2JBe_-_hKQ",
        "outputId": "53bcfafe-eb56-4ac8-8b44-52e7c2e5969c"
      },
      "execution_count": null,
      "outputs": [
        {
          "output_type": "stream",
          "name": "stdout",
          "text": [
            "{'engineer': 10, 'doctor': 4, 'teacher': 5, 'police': 9, 'recruiter': 2}\n"
          ]
        }
      ]
    },
    {
      "cell_type": "code",
      "source": [
        "#deleting elements\n",
        "del my_dict[\"police\"]\n",
        "print(my_dict)"
      ],
      "metadata": {
        "colab": {
          "base_uri": "https://localhost:8080/"
        },
        "id": "92K8iyvxAAPt",
        "outputId": "bb9e0bc9-88d8-4b33-f49e-ee9f680fe448"
      },
      "execution_count": null,
      "outputs": [
        {
          "output_type": "stream",
          "name": "stdout",
          "text": [
            "{'engineer': 10, 'doctor': 4, 'teacher': 5, 'recruiter': 2}\n"
          ]
        }
      ]
    },
    {
      "cell_type": "code",
      "source": [
        "#creting set\n",
        "my_set = {1,2.3,\"work\",(1,2,3)}\n",
        "print(my_set)"
      ],
      "metadata": {
        "colab": {
          "base_uri": "https://localhost:8080/"
        },
        "id": "s4TzXH7FScls",
        "outputId": "a09fa6b4-bba7-4681-be35-11fd526efda1"
      },
      "execution_count": null,
      "outputs": [
        {
          "output_type": "stream",
          "name": "stdout",
          "text": [
            "{1, 2.3, (1, 2, 3), 'work'}\n"
          ]
        }
      ]
    },
    {
      "cell_type": "code",
      "source": [
        "my_set = {1,2,3,4,5}\n",
        "print(my_set)"
      ],
      "metadata": {
        "colab": {
          "base_uri": "https://localhost:8080/"
        },
        "id": "2MrtXlkdUqJW",
        "outputId": "abc30cc3-b742-43de-c728-da18930e1454"
      },
      "execution_count": null,
      "outputs": [
        {
          "output_type": "stream",
          "name": "stdout",
          "text": [
            "{1, 2, 3, 4, 5}\n"
          ]
        }
      ]
    },
    {
      "cell_type": "code",
      "source": [
        "#adding elements to the set\n",
        "my_set.add(10)\n",
        "print(my_set)"
      ],
      "metadata": {
        "colab": {
          "base_uri": "https://localhost:8080/"
        },
        "id": "bPb_YYk-U0gC",
        "outputId": "891ea42a-a0c5-418f-8392-5d6e93e053d5"
      },
      "execution_count": null,
      "outputs": [
        {
          "output_type": "stream",
          "name": "stdout",
          "text": [
            "{1, 2, 3, 4, 5, 10}\n"
          ]
        }
      ]
    },
    {
      "cell_type": "code",
      "source": [
        "#modifing elements\n",
        "my_set = my_set.union({4,6,7,8})\n",
        "print(my_set)"
      ],
      "metadata": {
        "colab": {
          "base_uri": "https://localhost:8080/"
        },
        "id": "dXA7htpWU6S3",
        "outputId": "9505419e-7db8-45e6-aa7b-189095fe9db0"
      },
      "execution_count": null,
      "outputs": [
        {
          "output_type": "stream",
          "name": "stdout",
          "text": [
            "{1, 2, 3, 4, 5, 6, 7, 8, 10}\n"
          ]
        }
      ]
    },
    {
      "cell_type": "code",
      "source": [
        "#removing elements\n",
        "my_set.remove(1)\n",
        "print(my_set)"
      ],
      "metadata": {
        "colab": {
          "base_uri": "https://localhost:8080/"
        },
        "id": "e0ovzo8lVng1",
        "outputId": "d69cf2f4-bb68-4609-83dd-ff6d6ee24319"
      },
      "execution_count": null,
      "outputs": [
        {
          "output_type": "stream",
          "name": "stdout",
          "text": [
            "{2, 3, 4, 5, 6, 7, 8, 10}\n"
          ]
        }
      ]
    }
  ]
}